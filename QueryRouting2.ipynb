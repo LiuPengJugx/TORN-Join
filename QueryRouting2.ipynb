{
 "cells": [
  {
   "cell_type": "code",
   "execution_count": 18,
   "metadata": {
    "pycharm": {
     "name": "#%%\n"
    }
   },
   "outputs": [],
   "source": [
    "import findspark\n",
    "findspark.init() # this must be executed before the below import"
   ]
  },
  {
   "cell_type": "code",
   "execution_count": 19,
   "metadata": {
    "pycharm": {
     "name": "#%%\n"
    }
   },
   "outputs": [],
   "source": [
    "from pyspark import SparkContext, SparkConf\n",
    "from pyspark.sql import SQLContext\n",
    "from pyspark.sql import SparkSession\n",
    "from pyspark import SparkFiles"
   ]
  },
  {
   "cell_type": "code",
   "execution_count": 20,
   "metadata": {
    "pycharm": {
     "name": "#%%\n"
    }
   },
   "outputs": [],
   "source": [
    "import time\n",
    "import numpy as np\n",
    "from numpy import genfromtxt\n",
    "import rtree\n",
    "from rtree import index"
   ]
  },
  {
   "cell_type": "code",
   "execution_count": 21,
   "metadata": {
    "pycharm": {
     "name": "#%%\n"
    }
   },
   "outputs": [
    {
     "ename": "ValueError",
     "evalue": "Cannot run multiple SparkContexts at once; existing SparkContext(app=pyspark-shell, master=local[*]) created by __init__ at <ipython-input-4-45c7a0aab248>:1 ",
     "output_type": "error",
     "traceback": [
      "\u001B[0;31m---------------------------------------------------------------------------\u001B[0m",
      "\u001B[0;31mValueError\u001B[0m                                Traceback (most recent call last)",
      "\u001B[0;32m<ipython-input-21-45c7a0aab248>\u001B[0m in \u001B[0;36m<module>\u001B[0;34m\u001B[0m\n\u001B[0;32m----> 1\u001B[0;31m \u001B[0msc\u001B[0m \u001B[0;34m=\u001B[0m \u001B[0mSparkContext\u001B[0m\u001B[0;34m(\u001B[0m\u001B[0;34m)\u001B[0m\u001B[0;34m\u001B[0m\u001B[0;34m\u001B[0m\u001B[0m\n\u001B[0m\u001B[1;32m      2\u001B[0m \u001B[0msqlContext\u001B[0m \u001B[0;34m=\u001B[0m \u001B[0mSQLContext\u001B[0m\u001B[0;34m(\u001B[0m\u001B[0msc\u001B[0m\u001B[0;34m)\u001B[0m\u001B[0;34m\u001B[0m\u001B[0;34m\u001B[0m\u001B[0m\n",
      "\u001B[0;32m/usr/local/spark/python/pyspark/context.py\u001B[0m in \u001B[0;36m__init__\u001B[0;34m(self, master, appName, sparkHome, pyFiles, environment, batchSize, serializer, conf, gateway, jsc, profiler_cls)\u001B[0m\n\u001B[1;32m    126\u001B[0m                 \" is not allowed as it is a security risk.\")\n\u001B[1;32m    127\u001B[0m \u001B[0;34m\u001B[0m\u001B[0m\n\u001B[0;32m--> 128\u001B[0;31m         \u001B[0mSparkContext\u001B[0m\u001B[0;34m.\u001B[0m\u001B[0m_ensure_initialized\u001B[0m\u001B[0;34m(\u001B[0m\u001B[0mself\u001B[0m\u001B[0;34m,\u001B[0m \u001B[0mgateway\u001B[0m\u001B[0;34m=\u001B[0m\u001B[0mgateway\u001B[0m\u001B[0;34m,\u001B[0m \u001B[0mconf\u001B[0m\u001B[0;34m=\u001B[0m\u001B[0mconf\u001B[0m\u001B[0;34m)\u001B[0m\u001B[0;34m\u001B[0m\u001B[0;34m\u001B[0m\u001B[0m\n\u001B[0m\u001B[1;32m    129\u001B[0m         \u001B[0;32mtry\u001B[0m\u001B[0;34m:\u001B[0m\u001B[0;34m\u001B[0m\u001B[0;34m\u001B[0m\u001B[0m\n\u001B[1;32m    130\u001B[0m             self._do_init(master, appName, sparkHome, pyFiles, environment, batchSize, serializer,\n",
      "\u001B[0;32m/usr/local/spark/python/pyspark/context.py\u001B[0m in \u001B[0;36m_ensure_initialized\u001B[0;34m(cls, instance, gateway, conf)\u001B[0m\n\u001B[1;32m    334\u001B[0m                         \u001B[0;34m\" created by %s at %s:%s \"\u001B[0m\u001B[0;34m\u001B[0m\u001B[0;34m\u001B[0m\u001B[0m\n\u001B[1;32m    335\u001B[0m                         % (currentAppName, currentMaster,\n\u001B[0;32m--> 336\u001B[0;31m                             callsite.function, callsite.file, callsite.linenum))\n\u001B[0m\u001B[1;32m    337\u001B[0m                 \u001B[0;32melse\u001B[0m\u001B[0;34m:\u001B[0m\u001B[0;34m\u001B[0m\u001B[0;34m\u001B[0m\u001B[0m\n\u001B[1;32m    338\u001B[0m                     \u001B[0mSparkContext\u001B[0m\u001B[0;34m.\u001B[0m\u001B[0m_active_spark_context\u001B[0m \u001B[0;34m=\u001B[0m \u001B[0minstance\u001B[0m\u001B[0;34m\u001B[0m\u001B[0;34m\u001B[0m\u001B[0m\n",
      "\u001B[0;31mValueError\u001B[0m: Cannot run multiple SparkContexts at once; existing SparkContext(app=pyspark-shell, master=local[*]) created by __init__ at <ipython-input-4-45c7a0aab248>:1 "
     ]
    }
   ],
   "source": [
    "sc = SparkContext()\n",
    "sqlContext = SQLContext(sc)"
   ]
  },
  {
   "cell_type": "code",
   "execution_count": null,
   "metadata": {
    "pycharm": {
     "name": "#%%\n"
    }
   },
   "outputs": [],
   "source": [
    "# use a Rtree to index the partitions, the id is the partition id\n",
    "# use a dictionary to save the {partition_id : parquet_id}\n",
    "# compose parquet file address with the parquet_id, or do we directly use partition id as parquet id"
   ]
  },
  {
   "cell_type": "code",
   "execution_count": null,
   "metadata": {
    "pycharm": {
     "name": "#%%\n"
    }
   },
   "outputs": [],
   "source": [
    "def find_overlap_parquets(query, partition_index):\n",
    "    '''\n",
    "    find out all the overlap partition ids\n",
    "    '''\n",
    "    query_lower = [qr[0] for qr in query]\n",
    "    query_upper = [qr[1] for qr in query]\n",
    "    query_border = tuple(query_lower + query_upper)\n",
    "    overlap_pids = list(partition_index.intersection(query_border))\n",
    "    \n",
    "    return overlap_pids"
   ]
  },
  {
   "cell_type": "code",
   "execution_count": null,
   "metadata": {
    "pycharm": {
     "name": "#%%\n"
    }
   },
   "outputs": [],
   "source": [
    "def get_parquet_file_paths(partition_ids, hdfs_path=None):\n",
    "    \n",
    "    if hdfs_path == None:\n",
    "        hdfs_path = 'hdfs://localhost:9000/user/cloudray/NORA/'\n",
    "    \n",
    "    result_paths = []\n",
    "    \n",
    "    for pid in partition_ids:\n",
    "        partition_name = 'partition_' + str(pid)+'.parquet'\n",
    "        path = hdfs_path + partition_name\n",
    "        result_paths.append(path)\n",
    "        \n",
    "    return result_paths"
   ]
  },
  {
   "cell_type": "code",
   "execution_count": null,
   "metadata": {
    "pycharm": {
     "name": "#%%\n"
    }
   },
   "outputs": [],
   "source": [
    "def transform_query_to_sql(query, used_dims, column_name_dict):\n",
    "    sql = ''\n",
    "    for i, dim in enumerate(used_dims):\n",
    "        if query[i][0] != -1:\n",
    "            sql += column_name_dict[dim] + '>=' + str(query[i][0]) + ' and '\n",
    "        if query[i][1] != -1:\n",
    "            sql += column_name_dict[dim] + '<=' + str(query[i][1]) + ' and '\n",
    "    sql = sql[0:-4] # remove the last 'and '\n",
    "    return sql"
   ]
  },
  {
   "cell_type": "code",
   "execution_count": null,
   "metadata": {
    "pycharm": {
     "name": "#%%\n"
    }
   },
   "outputs": [],
   "source": [
    "def query_with_parquets(query, partition_index, used_dims, column_name_dict, \n",
    "                        hdfs_path, print_execution_time=False):\n",
    "    '''\n",
    "    parameters:\n",
    "    @query: should contains the same dimension that partition_index holds\n",
    "    \n",
    "    first, find the overlapped parquet ids\n",
    "    second, load these parquets\n",
    "    third, query from the loaded parquets\n",
    "    '''\n",
    "    \n",
    "    pids = find_overlap_parquets(query, partition_index)\n",
    "    paths = get_parquet_file_paths(pids, hdfs_path)\n",
    "    \n",
    "    start_time = time.time()\n",
    "    \n",
    "    dfs = sqlContext.read.parquet(*paths)\n",
    "    dfs.write.mode('overwrite').parquet(hdfs_path+'temp.parquet')\n",
    "    dfs = sqlContext.read.parquet(hdfs_path+'temp.parquet')\n",
    "    \n",
    "    end_time_1 = time.time()\n",
    "    \n",
    "    sql = transform_query_to_sql(query, used_dims, column_name_dict)\n",
    "    \n",
    "    end_time_2 = time.time()\n",
    "    \n",
    "    query_result = dfs.filter(sql).collect()\n",
    "    \n",
    "    end_time_3 = time.time()\n",
    "    \n",
    "    parquet_load_time = end_time_1 - start_time\n",
    "    query_translation_time = end_time_2 - end_time_1\n",
    "    query_execution_time = end_time_3 - end_time_2\n",
    "    \n",
    "    if print_execution_time:\n",
    "        print('parquet loading time: ', parquet_load_time)\n",
    "        print('query translation time: ', query_translation_time)\n",
    "        print('query execution time: ', query_execution_time)\n",
    "    \n",
    "    return (query_result, len(paths), parquet_load_time, query_translation_time, query_execution_time, dfs.count())"
   ]
  },
  {
   "cell_type": "code",
   "execution_count": 22,
   "metadata": {
    "pycharm": {
     "name": "#%%\n"
    }
   },
   "outputs": [],
   "source": [
    "def query_with_parquets_seperate(query, partition_index, used_dims, column_name_dict, \n",
    "                        hdfs_path, print_execution_time=False):\n",
    "    '''\n",
    "    parameters:\n",
    "    @query: should contains the same dimension that partition_index holds\n",
    "    \n",
    "    first, find the overlapped parquet ids\n",
    "    second, load these parquets\n",
    "    third, query from the loaded parquets\n",
    "    '''\n",
    "    \n",
    "    pids = find_overlap_parquets(query, partition_index)\n",
    "    paths = get_parquet_file_paths(pids, hdfs_path)\n",
    "    \n",
    "    start_time = time.time()\n",
    "    for path in paths:\n",
    "        dfs = sqlContext.read.parquet(*paths)\n",
    "        sql = transform_query_to_sql(query, used_dims, column_name_dict)\n",
    "        query_result = dfs.filter(sql).collect()\n",
    "    end_time = time.time()\n",
    "    \n",
    "    query_time = end_time - start_time\n",
    "    \n",
    "    if print_execution_time:\n",
    "        print('query time: ', query_time)\n",
    "    \n",
    "    return ([query_time], len(paths), query_time, query_time, query_time, 1)"
   ]
  },
  {
   "cell_type": "code",
   "execution_count": 23,
   "metadata": {
    "pycharm": {
     "name": "#%%\n"
    }
   },
   "outputs": [],
   "source": [
    "def query_from_single_file(filepath, query, used_dims, column_name_dict):\n",
    "    start_time = time.time()\n",
    "    dfs = sqlContext.read.csv(filepath, header=False, inferSchema=True)\n",
    "    end_time_1 = time.time()\n",
    "    sql = transform_query_to_sql(query, used_dims, column_name_dict)\n",
    "    end_time_2 = time.time()\n",
    "    query_result = dfs.filter(sql).collect()\n",
    "    end_time_3 = time.time()\n",
    "    parquet_load_time = end_time_1 - start_time\n",
    "    query_translation_time = end_time_2 - end_time_1\n",
    "    query_execution_time = end_time_3 - end_time_2\n",
    "    return (query_result, 1, parquet_load_time, query_translation_time, query_execution_time, dfs.count())"
   ]
  },
  {
   "cell_type": "code",
   "execution_count": 24,
   "metadata": {
    "pycharm": {
     "name": "#%%\n"
    }
   },
   "outputs": [],
   "source": [
    "# # = = = Unit Test = = =\n",
    "\n",
    "# column_name_dict = {0:'_c0', 1:'_c1', 2:'_c2', 3:'_c3'}\n",
    "# query = [[-1,-1],[10,20],[10,-1]]\n",
    "\n",
    "# sql = transform_query_to_sql(query, column_name_dict)\n",
    "# print(sql)"
   ]
  },
  {
   "cell_type": "code",
   "execution_count": 25,
   "metadata": {
    "pycharm": {
     "name": "#%%\n"
    }
   },
   "outputs": [],
   "source": [
    "def load_query(path):\n",
    "    query_set = np.genfromtxt(path, delimiter=' ')\n",
    "    query_set = query_set.reshape(len(query_set),-1,2)\n",
    "    return query_set\n",
    "\n",
    "def kdnode_2_border(kdnode):\n",
    "    lower = [domain[0] for domain in kdnode[0]]\n",
    "    upper = [domain[1] for domain in kdnode[0]]\n",
    "    border = tuple(lower + upper) # non interleave\n",
    "    return border\n",
    "\n",
    "def load_partitions_from_file(path):\n",
    "    '''\n",
    "    the loaded stretched_kdnodes: [num_dims, l1,l2,...,ln, u1,u2,...,un, size, id, pid, left_child,id, right_child_id]\n",
    "    '''\n",
    "    stretched_kdnodes = genfromtxt(path, delimiter=',')\n",
    "    num_dims = int(stretched_kdnodes[0,0])\n",
    "    kdnodes = []\n",
    "    for i in range(len(stretched_kdnodes)):\n",
    "        domains = [ [stretched_kdnodes[i,k+1],stretched_kdnodes[i,1+num_dims+k]] for k in range(num_dims) ]\n",
    "        row = [domains]\n",
    "        row.append(stretched_kdnodes[i,2*num_dims+1])\n",
    "        # to be compatible with qd-tree's partition, that do not have the last 4 attributes\n",
    "        if len(stretched_kdnodes[i]) > 2*num_dims+2:\n",
    "            row.append(stretched_kdnodes[i,-4])\n",
    "            row.append(stretched_kdnodes[i,-3])\n",
    "            row.append(stretched_kdnodes[i,-2])\n",
    "            row.append(stretched_kdnodes[i,-1])\n",
    "        kdnodes.append(row)\n",
    "    return kdnodes\n",
    "\n",
    "def batch_query(queryset, partition_path, used_dims, column_name_dict, hdfs_path):\n",
    "    \n",
    "    partitions = load_partitions_from_file(partition_path)\n",
    "    \n",
    "    p = index.Property()\n",
    "    p.leaf_capacity = 100 # cannot be less than 100, indicate the maximum capacity\n",
    "    p.fill_factor = 0.5\n",
    "    p.overwrite = True\n",
    "    \n",
    "    partition_index = index.Index(properties = p)\n",
    "    for i in range(len(partitions)):\n",
    "        # qd-tree do not have this\n",
    "        #partition_index.insert(int(partitions[i][-4]), kdnode_2_border(partitions[i])) \n",
    "        partition_index.insert(i, kdnode_2_border(partitions[i]))\n",
    "    \n",
    "    start_time = time.time()\n",
    "    \n",
    "    # add statistics result\n",
    "    results = []\n",
    "    for query in queryset:\n",
    "        result = query_with_parquets(query, partition_index, used_dims, column_name_dict, hdfs_path)\n",
    "        #result = query_with_parquets_seperate(query, partition_index, used_dims, column_name_dict, hdfs_path)\n",
    "        #result = query_from_single_file('/home/cloudray/Downloads/TPCH_12M_8Field.csv', query, used_dims, \n",
    "                                        #column_name_dict)\n",
    "        results.append(result)\n",
    "    \n",
    "    end_time = time.time()\n",
    "    \n",
    "    total_records = 0\n",
    "    total_partitions = 0\n",
    "    total_loading_time = 0\n",
    "    total_translation_time = 0\n",
    "    total_execution_time = 0\n",
    "    total_candidates = 0\n",
    "    for i in range(len(results)):\n",
    "        total_records += len(results[i][0])\n",
    "        total_partitions += results[i][1]\n",
    "        total_loading_time += results[i][2]\n",
    "        total_translation_time += results[i][3]\n",
    "        total_execution_time += results[i][4]\n",
    "        total_candidates += results[i][5]\n",
    "    \n",
    "    query_response_time = end_time - start_time\n",
    "    avg_query_response_time = query_response_time / len(queryset)\n",
    "    \n",
    "#     print('total query response time: ', query_response_time)\n",
    "#     print('average query response time: ', avg_query_response_time)\n",
    "    \n",
    "    avg_records = total_records / len(queryset)\n",
    "    avg_partitions = total_partitions / len(queryset)\n",
    "    avg_loading_time = total_loading_time / len(queryset)\n",
    "    avg_translation_time = total_translation_time / len(queryset)\n",
    "    avg_execution_time = total_execution_time / len(queryset)\n",
    "    avg_candidates = total_candidates / len(queryset)\n",
    "    \n",
    "    print('total records: ', total_records)\n",
    "    print('total partitions: ', total_partitions)\n",
    "    print('total loading time: ', total_loading_time)\n",
    "    print('total translation time: ', total_translation_time)\n",
    "    print('total execution time: ', total_execution_time)\n",
    "    print('total candidate: ', total_candidates)\n",
    "    \n",
    "    print('average records: ', avg_records)\n",
    "    print('average partitions: ', avg_partitions)\n",
    "    print('average loading time: ', avg_loading_time)\n",
    "    print('average translation time: ', avg_translation_time)\n",
    "    print('average execution time: ', avg_execution_time)\n",
    "    print('average candidate: ', avg_candidates)"
   ]
  },
  {
   "cell_type": "code",
   "execution_count": 28,
   "metadata": {
    "pycharm": {
     "name": "#%%\n"
    }
   },
   "outputs": [
    {
     "name": "stdout",
     "output_type": "stream",
     "text": [
      "total records:  1269797\n",
      "total partitions:  74\n",
      "total loading time:  25.816479444503784\n",
      "total translation time:  0.0015883445739746094\n",
      "total execution time:  13.516983270645142\n",
      "total candidate:  14376071\n",
      "average records:  25395.94\n",
      "average partitions:  1.48\n",
      "average loading time:  0.5163295888900756\n",
      "average translation time:  3.176689147949219e-05\n",
      "average execution time:  0.27033966541290283\n",
      "average candidate:  287521.42\n"
     ]
    }
   ],
   "source": [
    "# = = = Execution = = =\n",
    "\n",
    "query_path1 = '/home/cloudray/NORA_Query/intro_distribution.csv'\n",
    "query_path2 = '/home/cloudray/NORA_Query/intro_random.csv'\n",
    "queryset1 = load_query(query_path1)\n",
    "queryset2 = load_query(query_path2)\n",
    "\n",
    "# queryset = np.concatenate((queryset1[0:40], queryset2[0:10]), axis=0)\n",
    "queryset = np.concatenate((queryset1[40:], queryset2[10:]), axis=0)\n",
    "\n",
    "# partition_path = '/home/cloudray/NORA_Partitions/nora_partitions'\n",
    "partition_path = '/home/cloudray/NORA_Partitions/qd_tree_partitions'\n",
    "used_dims = [1,2]\n",
    "num_dims = 8\n",
    "column_names = ['_c'+str(i) for i in range(num_dims)]\n",
    "column_name_dict = {}\n",
    "for i in range(num_dims):\n",
    "    column_name_dict[i] = column_names[i]\n",
    "\n",
    "# hdfs_path = 'hdfs://localhost:9000/user/cloudray/NORA/merged/'\n",
    "hdfs_path = 'hdfs://localhost:9000/user/cloudray/QdTree/merged/'\n",
    "\n",
    "\n",
    "batch_query(queryset, partition_path, used_dims, column_name_dict, hdfs_path)"
   ]
  },
  {
   "cell_type": "code",
   "execution_count": null,
   "metadata": {
    "pycharm": {
     "name": "#%%\n"
    }
   },
   "outputs": [],
   "source": [
    "# total records:  1269797\n",
    "# total partitions:  463\n",
    "# total loading time:  33.078574419021606\n",
    "# total translation time:  0.001646280288696289\n",
    "# total execution time:  13.950875759124756\n",
    "# total candidate:  3026807\n",
    "# average records:  25395.94\n",
    "# average partitions:  9.26\n",
    "# average loading time:  0.6615714883804321\n",
    "# average translation time:  3.292560577392578e-05\n",
    "# average execution time:  0.2790175151824951\n",
    "# average candidate:  60536.14\n",
    "    \n",
    "# total records:  1269797\n",
    "# total partitions:  74\n",
    "# total loading time:  25.816479444503784\n",
    "# total translation time:  0.0015883445739746094\n",
    "# total execution time:  13.516983270645142\n",
    "# total candidate:  14376071\n",
    "# average records:  25395.94\n",
    "# average partitions:  1.48\n",
    "# average loading time:  0.5163295888900756\n",
    "# average translation time:  3.176689147949219e-05\n",
    "# average execution time:  0.27033966541290283\n",
    "# average candidate:  287521.42"
   ]
  },
  {
   "cell_type": "code",
   "execution_count": null,
   "metadata": {
    "pycharm": {
     "name": "#%%\n"
    }
   },
   "outputs": [],
   "source": [
    "# queryset = [[[1000, 9000],[114.4, 185.3]]]\n",
    "\n",
    "# # partition_path = '/home/cloudray/NORA_Partitions/nora_test' # 1.06s\n",
    "# partition_path = '/home/cloudray/NORA_Partitions/qd_tree_test' # 1.39s\n",
    "\n",
    "# # hdfs_path = 'hdfs://localhost:9000/user/cloudray/NORA_Test/merged/'\n",
    "# hdfs_path = 'hdfs://localhost:9000/user/cloudray/QdTree_Test/merged/'\n",
    "\n",
    "# used_dims = [1,2]\n",
    "# num_dims = 8\n",
    "# column_names = ['_c'+str(i) for i in range(num_dims)]\n",
    "# column_name_dict = {}\n",
    "# for i in range(num_dims):\n",
    "#     column_name_dict[i] = column_names[i]\n",
    "\n",
    "# batch_query(queryset, partition_path, used_dims, column_name_dict, hdfs_path)"
   ]
  },
  {
   "cell_type": "code",
   "execution_count": null,
   "metadata": {
    "pycharm": {
     "name": "#%%\n"
    }
   },
   "outputs": [],
   "source": [
    "# # nora\n",
    "# total query response time:  29.44448232650757\n",
    "# average query response time:  0.5888896465301514\n",
    "\n",
    "# total records: 1269797\n",
    "# total partitions:  463\n",
    "# total loading time:  2.648822784423828\n",
    "# total translation time:  0.001538991928100586\n",
    "# total execution time:  24.893444061279297\n",
    "# total candidate:  3026807\n",
    "\n",
    "# average records:  25395.94\n",
    "# average partitions:  9.26\n",
    "# average loading time:  0.05297645568847656\n",
    "# average translation time:  3.077983856201172e-05\n",
    "# average execution time:  0.4978688812255859\n",
    "# average candidate:  60536.14\n",
    "\n",
    "\n",
    "# # qd-tree\n",
    "# total query response time:  18.707958221435547\n",
    "# average query response time:  0.37415916442871094\n",
    "\n",
    "# total records:  1269797\n",
    "# total partitions:  74\n",
    "# total loading time:  1.9194436073303223\n",
    "# total translation time:  0.001483917236328125\n",
    "# total execution time:  12.638132810592651\n",
    "# total candidate:  14376071\n",
    "\n",
    "# average records:  25395.94\n",
    "# average partitions:  1.48\n",
    "# average loading time:  0.03838887214660645\n",
    "# average translation time:  2.96783447265625e-05\n",
    "# average execution time:  0.252762656211853\n",
    "# average candidate:  287521.42\n",
    "\n",
    "\n",
    "# # single file (single partition)\n",
    "# total records:  1269797\n",
    "# total partitions:  50\n",
    "# total loading time:  548.5099625587463\n",
    "# total translation time:  0.0016028881072998047\n",
    "# total execution time:  249.31028032302856\n",
    "# total candidate:  599899800\n",
    "\n",
    "# average records:  25395.94\n",
    "# average partitions:  1.0\n",
    "# average loading time:  10.970199251174927\n",
    "# average translation time:  3.2057762145996096e-05\n",
    "# average execution time:  4.9862056064605715\n",
    "# average candidate:  11997996.0\n",
    "\n",
    "# # execute query directly on each parquet file\n",
    "# total query response time:  330.26623010635376\n",
    "# average query response time:  6.605324602127075\n",
    "    \n",
    "# # try save the loaded dataframe into a new single parquet file\n",
    "# # load and execute query on it\n",
    "# total loading time:  35.37981963157654\n",
    "# total execution time:  10.4388906955719\n",
    "    \n",
    "# average loading time:  0.7075963926315307\n",
    "# average execution time:  0.208777813911438"
   ]
  },
  {
   "cell_type": "code",
   "execution_count": null,
   "metadata": {
    "pycharm": {
     "name": "#%%\n"
    }
   },
   "outputs": [],
   "source": []
  }
 ],
 "metadata": {
  "kernelspec": {
   "display_name": "Python 3",
   "language": "python",
   "name": "python3"
  },
  "language_info": {
   "codemirror_mode": {
    "name": "ipython",
    "version": 3
   },
   "file_extension": ".py",
   "mimetype": "text/x-python",
   "name": "python",
   "nbconvert_exporter": "python",
   "pygments_lexer": "ipython3",
   "version": "3.8.3"
  }
 },
 "nbformat": 4,
 "nbformat_minor": 2
}